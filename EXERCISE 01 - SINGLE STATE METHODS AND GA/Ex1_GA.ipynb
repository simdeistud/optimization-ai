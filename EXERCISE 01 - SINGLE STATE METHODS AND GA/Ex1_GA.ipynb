{
 "cells": [
  {
   "cell_type": "markdown",
   "metadata": {},
   "source": [
    "# Solving the Travelling Salesman Problem using Genetic Algorithm\n",
    "\n",
    "The *Traveling Salesman Problem* (TSP) is a classic and extremely important optimisation problem in the field of operations research and computer science. It can be stated as follows: *Given a set of cities and the distances between each pair of cities, the goal is to find the shortest possible route that visits each city exactly once and returns back to the starting city.* The TSP is known to be a NP-hard problem, hence it doesn't have a known polynomial-time algorithm which solves it exactly. In this first lab session, we will try to leverage *Genetic Algorithm* (GA) to come up with a solution.\n",
    "\n",
    "Let's start by importing some useful modules."
   ]
  },
  {
   "cell_type": "code",
   "metadata": {},
   "source": [
    "import random\n",
    "import numpy as np"
   ],
   "outputs": [],
   "execution_count": null
  },
  {
   "cell_type": "markdown",
   "metadata": {},
   "source": [
    "We define a `City` class to handle our cities more easily. "
   ]
  },
  {
   "cell_type": "code",
   "metadata": {},
   "source": [
    "class City:\n",
    "    def __init__(self, x, y):\n",
    "        self.x = x\n",
    "        self.y = y\n",
    "    \n",
    "    def __repr__(self):\n",
    "        return \"(\" + str(self.x) + \", \" + str(self.y) + \")\"\n",
    "    \n",
    "    def __eq__(self, other_city):\n",
    "        return isinstance(other_city, City) and self.x == other_city.x and self.y == other_city.y\n",
    "    \n",
    "    def __ne__(self, other_city):\n",
    "        return not self == other_city\n",
    "    \n",
    "    def distance(self, city):\n",
    "        x_diff = abs(self.x - city.x)\n",
    "        y_diff = abs(self.y - city.y)\n",
    "        return np.sqrt((x_diff ** 2) + (y_diff ** 2))"
   ],
   "outputs": [],
   "execution_count": null
  },
  {
   "cell_type": "markdown",
   "metadata": {},
   "source": [
    "Now we want a function to initialize our population. Remember that each route must contain each city **exactly once**."
   ]
  },
  {
   "cell_type": "code",
   "metadata": {},
   "source": [
    "def get_cities(n_cities, x_range, y_range):\n",
    "    cities = []\n",
    "    for _ in range(n_cities):\n",
    "        cities.append(City(x=int(random.random() * x_range), y=int(random.random() * y_range)))\n",
    "    return cities\n",
    "\n",
    "def init_population(cities, pop_size):\n",
    "    routes = []\n",
    "    for _ in range(pop_size):\n",
    "        rem_cities = list(cities)\n",
    "        route = []\n",
    "        while len(rem_cities) > 0:\n",
    "            route.append(rem_cities.pop(random.randint(0, len(rem_cities) - 1)))\n",
    "        routes.append(route)\n",
    "    return routes"
   ],
   "outputs": [],
   "execution_count": null
  },
  {
   "cell_type": "markdown",
   "metadata": {},
   "source": [
    "We define the **fitness** as the inverse of the route distance. Since we want to minimise the distance, we want to maximise our fitness score."
   ]
  },
  {
   "cell_type": "code",
   "metadata": {},
   "source": [
    "def fitness_score(route):\n",
    "    fitness = 0\n",
    "    for k in range(len(route)-1):\n",
    "        fitness += route[k].distance(route[k+1])\n",
    "    return fitness"
   ],
   "outputs": [],
   "execution_count": null
  },
  {
   "cell_type": "markdown",
   "metadata": {},
   "source": [
    "We define now a function to perform **tournament selection** (or any other selection strategy you may prefer)."
   ]
  },
  {
   "cell_type": "code",
   "metadata": {},
   "source": [
    "def tournament_selection(pop, fit, k):\n",
    "    tournament = []\n",
    "    for _ in range(k):\n",
    "        tournament.append(pop[random.randint(0, len(pop) - 1)])\n",
    "    return max(tournament, key=lambda x: fit(x))"
   ],
   "outputs": [],
   "execution_count": null
  },
  {
   "cell_type": "markdown",
   "metadata": {},
   "source": [
    "Since each individual is a permutation of a set of different cities we must ensure that crossover and mutation generate valid individuals. As for the crossover, we can choose between the **partially mapped crossover** (**PMX**) and the **cycle crossover**. Let's implement both."
   ]
  },
  {
   "cell_type": "code",
   "metadata": {},
   "source": [
    "def pmx(parent1, parent2):\n",
    "    l = len(parent1)\n",
    "    child = [None] * l\n",
    "    # SELECTION AND COPY OF THE FIRST RANGE OF VALUES FROM P1\n",
    "    i, j = sorted(random.sample(range(l), 2))\n",
    "    child[i:j+1] = parent1[i:j+1]\n",
    "    # PERFORM THE PARTIAL MAPPING\n",
    "    for g in range(i, j+1):\n",
    "        n = parent1[g]\n",
    "        m = parent2[g]\n",
    "        if m not in child:\n",
    "            k = parent2.index(n)\n",
    "            while child[k] is not None:\n",
    "                k = parent2.index(parent1[k])\n",
    "            child[k] = m\n",
    "    # COPY OF THE REMAINING VALUES OF P2\n",
    "    for g in range(l):\n",
    "        if child[g] is None:\n",
    "            child[g] = parent2[g]\n",
    "    return child"
   ],
   "outputs": [],
   "execution_count": null
  },
  {
   "cell_type": "code",
   "metadata": {},
   "source": [
    "def cx(parent1, parent2):\n",
    "    l = len(parent1)\n",
    "    start = random.randint(0, l-1)\n",
    "    child = [None] * l\n",
    "    curr = parent1.index(parent2[start])\n",
    "    # FIND THE CYCLE ELEMENTS OF P1\n",
    "    while curr != start:\n",
    "        child[curr] = parent1[curr]\n",
    "        curr = parent1.index(parent2[curr])\n",
    "    child[curr] = parent1[curr]\n",
    "    # COPY OF THE REMAINING VALUES OF P2\n",
    "    for g in range(l):\n",
    "        if child[g] is None:\n",
    "            child[g] = parent2[g]\n",
    "    return child"
   ],
   "outputs": [],
   "execution_count": null
  },
  {
   "cell_type": "markdown",
   "metadata": {},
   "source": [
    "Let's check if we did everything right with simple lists of integers"
   ]
  },
  {
   "cell_type": "code",
   "metadata": {},
   "source": [
    "parent1 = [7, 2, 3, 1, 5, 4, 6]\n",
    "parent2 = [2, 4, 5, 6, 1, 7, 3]\n",
    "\n",
    "\n",
    "print(pmx(parent1, parent2))\n",
    "print(cx(parent1, parent2))"
   ],
   "outputs": [],
   "execution_count": null
  },
  {
   "cell_type": "markdown",
   "metadata": {},
   "source": [
    "Also the mutation needs to generate valid individuals. Choose a strategy which suits our problem."
   ]
  },
  {
   "cell_type": "code",
   "metadata": {},
   "source": [
    "def mutate(individual, p_m):\n",
    "    if random.random() < p_m:\n",
    "        return individual\n",
    "    i1 = random.randint(0, len(individual) - 1)\n",
    "    i2 = i1\n",
    "    while i1 == i2:\n",
    "        i2 = random.randint(0, len(individual) - 1)\n",
    "    swp = individual[i1]\n",
    "    individual[i1] = individual[i2]\n",
    "    individual[i2] = swp\n",
    "    return individual"
   ],
   "outputs": [],
   "execution_count": null
  },
  {
   "cell_type": "markdown",
   "metadata": {},
   "source": [
    "Now we define the function `generation`, which performs:\n",
    "- Selection\n",
    "- Crossover\n",
    "- Mutation\n",
    "\n",
    "One should have the possibility to include elitism."
   ]
  },
  {
   "cell_type": "code",
   "metadata": {},
   "source": [
    "def get_elites(pop, fit, k_el):\n",
    "    if k_el == 0:\n",
    "        return []\n",
    "    elites = list(pop)\n",
    "    elites.sort(key=lambda x: fit(x))\n",
    "    return elites[0:k_el]\n",
    "\n",
    "def generation(pop, fit, crossover, p_m, t_size, elitism=True, k_el=1):\n",
    "    # CODE HERE\n",
    "    N = len(pop)\n",
    "    selected_pop = []\n",
    "    for _ in range(N - k_el):\n",
    "        selected_pop.append(tournament_selection(pop, fit, t_size))\n",
    "    selected_pop.extend(get_elites(pop, fit, k_el))\n",
    "    xover_pop = []\n",
    "    for _ in range(N):\n",
    "        xover_pop.append(crossover(random.choice(selected_pop), random.choice(selected_pop)))\n",
    "    return list(mutate(i, p_m) for i in xover_pop)"
   ],
   "outputs": [],
   "execution_count": null
  },
  {
   "cell_type": "markdown",
   "metadata": {},
   "source": [
    "A GA performs a generational cycle a predefined number of times."
   ]
  },
  {
   "cell_type": "code",
   "metadata": {},
   "source": [
    "def get_best(pop, fit):\n",
    "    return max([(fit(x), x) for x in pop])"
   ],
   "outputs": [],
   "execution_count": null
  },
  {
   "cell_type": "code",
   "metadata": {},
   "source": [
    "def GA(cities, pop_size, n, fit, crossover, t_size = 10, n_gen = 200):\n",
    "    pop = init_population(cities, pop_size)\n",
    "    history = []\n",
    "    for g in range(n_gen):\n",
    "        pop = generation(pop, fit, crossover, 0.5, t_size)\n",
    "        history.append([get_best(pop, fit)[0], g])\n",
    "    return get_best(pop, fit), history"
   ],
   "outputs": [],
   "execution_count": null
  },
  {
   "cell_type": "markdown",
   "metadata": {},
   "source": [
    "Run the Algorithm with different crossover startegies and parametrisations. For each experiment, make a line plot showing the best fitness score for each generation."
   ]
  },
  {
   "cell_type": "code",
   "metadata": {},
   "source": [
    "cities = get_cities(25, 200, 200)"
   ],
   "outputs": [],
   "execution_count": null
  },
  {
   "cell_type": "code",
   "metadata": {},
   "source": [
    "res, history = GA(cities=cities, pop_size=40, n=len(cities), fit=fitness_score, crossover=pmx)\n",
    "best_fit, best_route = res"
   ],
   "outputs": [],
   "execution_count": null
  },
  {
   "cell_type": "code",
   "metadata": {},
   "source": [
    "import matplotlib.pyplot as plt"
   ],
   "outputs": [],
   "execution_count": null
  },
  {
   "cell_type": "code",
   "metadata": {},
   "source": [
    "plt.plot(history)\n",
    "plt.ylabel('Fitness')\n",
    "plt.xlabel('Generation')\n",
    "plt.show()"
   ],
   "outputs": [],
   "execution_count": null
  },
  {
   "cell_type": "markdown",
   "metadata": {},
   "source": [
    "Let's plot the solution found by the GA. "
   ]
  },
  {
   "cell_type": "code",
   "metadata": {},
   "source": [
    "route = res[1]\n",
    "\n",
    "x = [city.x for city in route]\n",
    "y = [city.y for city in route]\n",
    "\n",
    "plt.scatter(x, y, label='Cities', color='blue')\n",
    "\n",
    "for i in range(len(cities) - 1):\n",
    "    plt.plot([x[i], x[i + 1]], [y[i], y[i + 1]], 'r-')\n",
    "\n",
    "plt.plot([x[len(cities)-1], x[0]], [y[len(cities)-1], y[0]], 'r-')\n",
    "plt.title('Solution')\n",
    "\n",
    "# Show legend\n",
    "plt.legend()\n",
    "\n",
    "# Show the plot\n",
    "plt.show()"
   ],
   "outputs": [],
   "execution_count": null
  }
 ],
 "metadata": {
  "kernelspec": {
   "display_name": "optai",
   "language": "python",
   "name": "python3"
  },
  "language_info": {
   "codemirror_mode": {
    "name": "ipython",
    "version": 3
   },
   "file_extension": ".py",
   "mimetype": "text/x-python",
   "name": "python",
   "nbconvert_exporter": "python",
   "pygments_lexer": "ipython3",
   "version": "3.11.5"
  },
  "orig_nbformat": 4
 },
 "nbformat": 4,
 "nbformat_minor": 2
}
