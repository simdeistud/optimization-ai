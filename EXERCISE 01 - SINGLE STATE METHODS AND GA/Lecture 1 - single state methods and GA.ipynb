{
 "cells": [
  {
   "cell_type": "markdown",
   "metadata": {
    "id": "W8RgBuJu30ig"
   },
   "source": [
    "# Single-state methods and Genetic Algorithms\n",
    "\n",
    "- Random Search\n",
    "- Hill Climbing\n",
    "- Simulated Annealing\n",
    "- Genetic Algorithms"
   ]
  },
  {
   "cell_type": "markdown",
   "metadata": {
    "id": "p_NhcTIG_APy"
   },
   "source": [
    "Let us start by importing the random module (for ```random.choice```, ```random.choices```, and ```random.randint```) and the math module (for ```math.e```)."
   ]
  },
  {
   "cell_type": "code",
   "execution_count": null,
   "metadata": {
    "executionInfo": {
     "elapsed": 1569,
     "status": "ok",
     "timestamp": 1611048612676,
     "user": {
      "displayName": "Luca Manzoni",
      "photoUrl": "https://lh3.googleusercontent.com/a-/AOh14Ghe29ailJMHOhIfcMMV-n6KoyZgpvKhU0y8mcacAg=s64",
      "userId": "14224333895353448832"
     },
     "user_tz": -60
    },
    "id": "AQd-wq9l5XyE"
   },
   "outputs": [],
   "source": [
    "import random\n",
    "import math"
   ]
  },
  {
   "cell_type": "markdown",
   "metadata": {
    "id": "EkF18_Z5_m1F"
   },
   "source": [
    "We define the **OneMax** function as the number of ones in a list"
   ]
  },
  {
   "cell_type": "code",
   "execution_count": null,
   "metadata": {
    "executionInfo": {
     "elapsed": 1488,
     "status": "ok",
     "timestamp": 1611048624310,
     "user": {
      "displayName": "Luca Manzoni",
      "photoUrl": "https://lh3.googleusercontent.com/a-/AOh14Ghe29ailJMHOhIfcMMV-n6KoyZgpvKhU0y8mcacAg=s64",
      "userId": "14224333895353448832"
     },
     "user_tz": -60
    },
    "id": "DheOUSs94AyF"
   },
   "outputs": [],
   "source": [
    "def onemax(xs):\n",
    "  \"The OneMax function. It returns the number of ones in a list\"\n",
    "  return len([x for x in xs if x == 1])"
   ]
  },
  {
   "cell_type": "code",
   "execution_count": null,
   "metadata": {
    "colab": {
     "base_uri": "https://localhost:8080/"
    },
    "executionInfo": {
     "elapsed": 1573,
     "status": "ok",
     "timestamp": 1611048638234,
     "user": {
      "displayName": "Luca Manzoni",
      "photoUrl": "https://lh3.googleusercontent.com/a-/AOh14Ghe29ailJMHOhIfcMMV-n6KoyZgpvKhU0y8mcacAg=s64",
      "userId": "14224333895353448832"
     },
     "user_tz": -60
    },
    "id": "uriFbwqq-zBD",
    "outputId": "47918071-6599-4010-928b-451e60a61803"
   },
   "outputs": [],
   "source": [
    "onemax([1,0,1,1,0])"
   ]
  },
  {
   "cell_type": "markdown",
   "metadata": {
    "id": "9unw7gUa_uKg"
   },
   "source": [
    "## Random Search\n",
    "\n",
    "For random search we generate ```n_iter``` times a new random solution that is accepted only if its fitness is equal or better than the best solution found so far"
   ]
  },
  {
   "cell_type": "code",
   "execution_count": null,
   "metadata": {
    "executionInfo": {
     "elapsed": 668,
     "status": "ok",
     "timestamp": 1611048711779,
     "user": {
      "displayName": "Luca Manzoni",
      "photoUrl": "https://lh3.googleusercontent.com/a-/AOh14Ghe29ailJMHOhIfcMMV-n6KoyZgpvKhU0y8mcacAg=s64",
      "userId": "14224333895353448832"
     },
     "user_tz": -60
    },
    "id": "7KgRxoSv4SkD"
   },
   "outputs": [],
   "source": [
    "def random_search(fit, random_sample, n_iter = 100):\n",
    "  best = random_sample()\n",
    "  best_fit = fit(best)\n",
    "  for i in range(0, n_iter):\n",
    "    x = random_sample()\n",
    "    x_fit = fit(x)\n",
    "    if x_fit >= best_fit:\n",
    "      best = x\n",
    "      best_fit = x_fit\n",
    "  return best"
   ]
  },
  {
   "cell_type": "markdown",
   "metadata": {
    "id": "U4g9Redw_-ir"
   },
   "source": [
    "Let us try with OneMax and different values of $k$"
   ]
  },
  {
   "cell_type": "code",
   "execution_count": null,
   "metadata": {
    "colab": {
     "base_uri": "https://localhost:8080/"
    },
    "executionInfo": {
     "elapsed": 439,
     "status": "ok",
     "timestamp": 1611048761615,
     "user": {
      "displayName": "Luca Manzoni",
      "photoUrl": "https://lh3.googleusercontent.com/a-/AOh14Ghe29ailJMHOhIfcMMV-n6KoyZgpvKhU0y8mcacAg=s64",
      "userId": "14224333895353448832"
     },
     "user_tz": -60
    },
    "id": "uWkythJX5Rne",
    "outputId": "a24d95e2-22b0-4cc7-aaae-b1229570989b"
   },
   "outputs": [],
   "source": [
    "random_sample = lambda: random.choices([0,1], k=20)\n",
    "random_search(onemax, random_sample)"
   ]
  },
  {
   "cell_type": "markdown",
   "metadata": {
    "id": "RbwS1t1uAHmz"
   },
   "source": [
    "## Hill Climbing\n",
    "\n",
    "Before defining Hill Climbing we will define some utility functions that will be employed in defining the neighbourhood of a given solution. In particular, how to move from and to a number and its representation as a list of numbers in binary."
   ]
  },
  {
   "cell_type": "code",
   "execution_count": null,
   "metadata": {
    "executionInfo": {
     "elapsed": 393,
     "status": "ok",
     "timestamp": 1611048807272,
     "user": {
      "displayName": "Luca Manzoni",
      "photoUrl": "https://lh3.googleusercontent.com/a-/AOh14Ghe29ailJMHOhIfcMMV-n6KoyZgpvKhU0y8mcacAg=s64",
      "userId": "14224333895353448832"
     },
     "user_tz": -60
    },
    "id": "AdS7fjHp6wDi"
   },
   "outputs": [],
   "source": [
    "def as_binary_string(k, n):\n",
    "  xs = [0] * n\n",
    "  i = 0\n",
    "  while k != 0:\n",
    "    if k % 2 == 1:\n",
    "      xs[n-i-1] = 1\n",
    "    k = k // 2\n",
    "    i += 1\n",
    "  return xs\n",
    "\n",
    "def to_binary(xs):\n",
    "  k = 0\n",
    "  n = len(xs)\n",
    "  for i, b in enumerate(xs):\n",
    "    k += 2**(n-i-1) * b\n",
    "  return k"
   ]
  },
  {
   "cell_type": "code",
   "execution_count": null,
   "metadata": {
    "colab": {
     "base_uri": "https://localhost:8080/"
    },
    "executionInfo": {
     "elapsed": 366,
     "status": "ok",
     "timestamp": 1611048834043,
     "user": {
      "displayName": "Luca Manzoni",
      "photoUrl": "https://lh3.googleusercontent.com/a-/AOh14Ghe29ailJMHOhIfcMMV-n6KoyZgpvKhU0y8mcacAg=s64",
      "userId": "14224333895353448832"
     },
     "user_tz": -60
    },
    "id": "6naUuohO_f58",
    "outputId": "3d275152-3a7a-4ca1-c8b9-222d8bb87448"
   },
   "outputs": [],
   "source": [
    "to_binary([0,1,0,1,1])"
   ]
  },
  {
   "cell_type": "markdown",
   "metadata": {
    "id": "zGCGVjwZAezT"
   },
   "source": [
    "Selecting one neightbour randomly when we consider a binary string as a number $k$ represented in binary is simply a choice between $k-1$ and $k+1$ represented as binary strings:"
   ]
  },
  {
   "cell_type": "code",
   "execution_count": null,
   "metadata": {
    "executionInfo": {
     "elapsed": 643,
     "status": "ok",
     "timestamp": 1611048894944,
     "user": {
      "displayName": "Luca Manzoni",
      "photoUrl": "https://lh3.googleusercontent.com/a-/AOh14Ghe29ailJMHOhIfcMMV-n6KoyZgpvKhU0y8mcacAg=s64",
      "userId": "14224333895353448832"
     },
     "user_tz": -60
    },
    "id": "I7wjTYkm7LwZ"
   },
   "outputs": [],
   "source": [
    "def neigh_int(xs):\n",
    "  n = len(xs)\n",
    "  k = to_binary(xs)\n",
    "  if k == 0:\n",
    "    return as_binary_string(k+1, n)\n",
    "  elif k == 2**n - 1:\n",
    "    return as_binary_string(k-1, n)\n",
    "  else:\n",
    "    return random.choice([as_binary_string(k-1, n), as_binary_string(k+1, n)])"
   ]
  },
  {
   "cell_type": "markdown",
   "metadata": {
    "id": "V_7gkmoNAyq7"
   },
   "source": [
    "For the neighbourhood induced by the Hamming distance, we can select a position inside the list and \"flip\" the corresponding bit:"
   ]
  },
  {
   "cell_type": "code",
   "execution_count": null,
   "metadata": {
    "executionInfo": {
     "elapsed": 1203,
     "status": "ok",
     "timestamp": 1611048931414,
     "user": {
      "displayName": "Luca Manzoni",
      "photoUrl": "https://lh3.googleusercontent.com/a-/AOh14Ghe29ailJMHOhIfcMMV-n6KoyZgpvKhU0y8mcacAg=s64",
      "userId": "14224333895353448832"
     },
     "user_tz": -60
    },
    "id": "vAm2oi1v7OaT"
   },
   "outputs": [],
   "source": [
    "def neigh_hamming(xs):\n",
    "  n = len(xs)\n",
    "  candidates = []\n",
    "  pos = random.randint(0, n-1)\n",
    "  return xs[0:pos] + [1 - xs[pos]] + xs[pos+1:n]"
   ]
  },
  {
   "cell_type": "markdown",
   "metadata": {
    "id": "VnmMd859BNI1"
   },
   "source": [
    "We can now define Hill Climbing similarly to random search _except_ for the fact that the nexxt solution to consider is selected in among the neighbours of the current best solution:"
   ]
  },
  {
   "cell_type": "code",
   "execution_count": null,
   "metadata": {
    "executionInfo": {
     "elapsed": 451,
     "status": "ok",
     "timestamp": 1611048987514,
     "user": {
      "displayName": "Luca Manzoni",
      "photoUrl": "https://lh3.googleusercontent.com/a-/AOh14Ghe29ailJMHOhIfcMMV-n6KoyZgpvKhU0y8mcacAg=s64",
      "userId": "14224333895353448832"
     },
     "user_tz": -60
    },
    "id": "AyNWcOdH5boe"
   },
   "outputs": [],
   "source": [
    "def hill_climbing(fit, neigh, start, n_iter = 100):\n",
    "  best = start\n",
    "  best_fit = fit(start)\n",
    "  for i in range(0, n_iter):\n",
    "    x = neigh(best)\n",
    "    x_fit = fit(x)\n",
    "    if x_fit >= best_fit:\n",
    "      best = x\n",
    "      best_fit = x_fit\n",
    "  return best"
   ]
  },
  {
   "cell_type": "markdown",
   "metadata": {
    "id": "jYcKpc7yBfZJ"
   },
   "source": [
    "We can now try Hill Climbing on the OneMax problem with both the \"integer\" neighbourhood and the one induced by the Hamming distance:"
   ]
  },
  {
   "cell_type": "code",
   "execution_count": null,
   "metadata": {
    "colab": {
     "base_uri": "https://localhost:8080/"
    },
    "executionInfo": {
     "elapsed": 452,
     "status": "ok",
     "timestamp": 1611049050593,
     "user": {
      "displayName": "Luca Manzoni",
      "photoUrl": "https://lh3.googleusercontent.com/a-/AOh14Ghe29ailJMHOhIfcMMV-n6KoyZgpvKhU0y8mcacAg=s64",
      "userId": "14224333895353448832"
     },
     "user_tz": -60
    },
    "id": "6P85OMQr9dgL",
    "outputId": "6f8a4236-fdf3-4d2f-91ef-90d39770a2b6"
   },
   "outputs": [],
   "source": [
    "starting_point = random.choices([0,1], k = 30)\n",
    "print(starting_point)\n",
    "print(hill_climbing(onemax, neigh_int, starting_point))\n",
    "print(hill_climbing(onemax, neigh_hamming, starting_point));"
   ]
  },
  {
   "cell_type": "markdown",
   "metadata": {
    "id": "6ATb_JubCGRj"
   },
   "source": [
    "## Simulated Annealing\n",
    "\n",
    "We can now define the simulated annealing. In addition to what we have seen in the pseudocode, we also keep track of the best solution found so far, which is the one we return."
   ]
  },
  {
   "cell_type": "code",
   "execution_count": null,
   "metadata": {
    "executionInfo": {
     "elapsed": 423,
     "status": "ok",
     "timestamp": 1611049269016,
     "user": {
      "displayName": "Luca Manzoni",
      "photoUrl": "https://lh3.googleusercontent.com/a-/AOh14Ghe29ailJMHOhIfcMMV-n6KoyZgpvKhU0y8mcacAg=s64",
      "userId": "14224333895353448832"
     },
     "user_tz": -60
    },
    "id": "UyKFdbaQ-2pf"
   },
   "outputs": [],
   "source": [
    "def simulated_annealing(fit, neigh, start, schedule, n_iter = 100):\n",
    "  current = start\n",
    "  current_fit = fit(start)\n",
    "  best = current\n",
    "  best_fit = current_fit\n",
    "  T = schedule(0, n_iter)\n",
    "  for i in range(0, n_iter):\n",
    "    x = neigh(best)\n",
    "    x_fit = fit(x)\n",
    "    if x_fit >= current_fit:\n",
    "      current = x\n",
    "      current_fit = x_fit\n",
    "      if x_fit >= best_fit:\n",
    "        best = x\n",
    "        best_fit = x_fit\n",
    "    elif random.random() <= math.e**((x_fit - current_fit)/T):\n",
    "      current = x\n",
    "      current_fit = x_fit\n",
    "    T = schedule(i, n_iter)\n",
    "  return best"
   ]
  },
  {
   "cell_type": "markdown",
   "metadata": {
    "id": "Xbn2OQ8rNFlf"
   },
   "source": [
    "A possible schedule simply reduces the temperature with the number of iterations:"
   ]
  },
  {
   "cell_type": "code",
   "execution_count": null,
   "metadata": {
    "executionInfo": {
     "elapsed": 405,
     "status": "ok",
     "timestamp": 1611049298039,
     "user": {
      "displayName": "Luca Manzoni",
      "photoUrl": "https://lh3.googleusercontent.com/a-/AOh14Ghe29ailJMHOhIfcMMV-n6KoyZgpvKhU0y8mcacAg=s64",
      "userId": "14224333895353448832"
     },
     "user_tz": -60
    },
    "id": "eHgas9SiJ46A"
   },
   "outputs": [],
   "source": [
    "def schedule(i, n_iter):\n",
    "  return n_iter/(i+1)"
   ]
  },
  {
   "cell_type": "markdown",
   "metadata": {
    "id": "J8Tsb6NiNRWa"
   },
   "source": [
    "We can now check if something improves for the OneMax problem:"
   ]
  },
  {
   "cell_type": "code",
   "execution_count": null,
   "metadata": {
    "colab": {
     "base_uri": "https://localhost:8080/"
    },
    "executionInfo": {
     "elapsed": 730,
     "status": "ok",
     "timestamp": 1611049310826,
     "user": {
      "displayName": "Luca Manzoni",
      "photoUrl": "https://lh3.googleusercontent.com/a-/AOh14Ghe29ailJMHOhIfcMMV-n6KoyZgpvKhU0y8mcacAg=s64",
      "userId": "14224333895353448832"
     },
     "user_tz": -60
    },
    "id": "_z7nkdFmKlcu",
    "outputId": "64519bea-b32c-447a-f463-ad338ef3faa8"
   },
   "outputs": [],
   "source": [
    "starting_point = random.choices([0,1], k = 20)\n",
    "print(starting_point)\n",
    "print(simulated_annealing(onemax, neigh_int, starting_point, schedule, n_iter=1000))\n",
    "print(simulated_annealing(onemax, neigh_hamming, starting_point, schedule, n_iter = 1000))"
   ]
  },
  {
   "cell_type": "markdown",
   "metadata": {
    "id": "UCI73ZaEUMBA"
   },
   "source": [
    "## Genetic Algorithms\n",
    "\n",
    "We start by defining the tournament selection. Notice that ```max``` on a python list of tuples return the maximum one in lexicographic order:"
   ]
  },
  {
   "cell_type": "code",
   "execution_count": null,
   "metadata": {
    "executionInfo": {
     "elapsed": 467,
     "status": "ok",
     "timestamp": 1611051468673,
     "user": {
      "displayName": "Luca Manzoni",
      "photoUrl": "https://lh3.googleusercontent.com/a-/AOh14Ghe29ailJMHOhIfcMMV-n6KoyZgpvKhU0y8mcacAg=s64",
      "userId": "14224333895353448832"
     },
     "user_tz": -60
    },
    "id": "ViLoQGLrUNq1"
   },
   "outputs": [],
   "source": [
    "def tournament_selection(pop, fit, k):\n",
    "  tournament = random.choices(pop, k=k)\n",
    "  selected = max([(fit(x), x) for x in tournament]) # (fitness, individual)\n",
    "  return selected[1]"
   ]
  },
  {
   "cell_type": "markdown",
   "metadata": {
    "id": "2riCdYnYZAPR"
   },
   "source": [
    "We define the one point crossover given two parents:"
   ]
  },
  {
   "cell_type": "code",
   "execution_count": null,
   "metadata": {
    "executionInfo": {
     "elapsed": 562,
     "status": "ok",
     "timestamp": 1611051537306,
     "user": {
      "displayName": "Luca Manzoni",
      "photoUrl": "https://lh3.googleusercontent.com/a-/AOh14Ghe29ailJMHOhIfcMMV-n6KoyZgpvKhU0y8mcacAg=s64",
      "userId": "14224333895353448832"
     },
     "user_tz": -60
    },
    "id": "Ghs-wh9dV9IF"
   },
   "outputs": [],
   "source": [
    "def one_point_crossover(x, y):\n",
    "  n = len(x)\n",
    "  k = random.randint(0,n-1)\n",
    "  of1 = x[0:k] + y[k:n]\n",
    "  of2 = y[0:k] + x[k:n]\n",
    "  return of1, of2"
   ]
  },
  {
   "cell_type": "code",
   "execution_count": null,
   "metadata": {
    "colab": {
     "base_uri": "https://localhost:8080/"
    },
    "executionInfo": {
     "elapsed": 755,
     "status": "ok",
     "timestamp": 1611051580620,
     "user": {
      "displayName": "Luca Manzoni",
      "photoUrl": "https://lh3.googleusercontent.com/a-/AOh14Ghe29ailJMHOhIfcMMV-n6KoyZgpvKhU0y8mcacAg=s64",
      "userId": "14224333895353448832"
     },
     "user_tz": -60
    },
    "id": "WzbOEBVhJ636",
    "outputId": "231a078a-ea3d-4a45-db35-138d904cd9bf"
   },
   "outputs": [],
   "source": [
    "one_point_crossover([1,1,1,1], [0,0,0,0])"
   ]
  },
  {
   "cell_type": "markdown",
   "metadata": {
    "id": "4TQQvIFpddZp"
   },
   "source": [
    "We can now define the bit-flip mutation with a given probability $p_\\text{mut}$:"
   ]
  },
  {
   "cell_type": "code",
   "execution_count": null,
   "metadata": {
    "executionInfo": {
     "elapsed": 537,
     "status": "ok",
     "timestamp": 1611051632469,
     "user": {
      "displayName": "Luca Manzoni",
      "photoUrl": "https://lh3.googleusercontent.com/a-/AOh14Ghe29ailJMHOhIfcMMV-n6KoyZgpvKhU0y8mcacAg=s64",
      "userId": "14224333895353448832"
     },
     "user_tz": -60
    },
    "id": "CFdEwr45WgoB"
   },
   "outputs": [],
   "source": [
    "def bit_flip_mutation(x, p_m):\n",
    "  def flip(b):\n",
    "    if random.random() < p_m:\n",
    "      return 1 - b\n",
    "    else:\n",
    "      return b\n",
    "  \n",
    "  return [flip(b) for b in x]"
   ]
  },
  {
   "cell_type": "code",
   "execution_count": null,
   "metadata": {
    "colab": {
     "base_uri": "https://localhost:8080/"
    },
    "executionInfo": {
     "elapsed": 512,
     "status": "ok",
     "timestamp": 1611051660718,
     "user": {
      "displayName": "Luca Manzoni",
      "photoUrl": "https://lh3.googleusercontent.com/a-/AOh14Ghe29ailJMHOhIfcMMV-n6KoyZgpvKhU0y8mcacAg=s64",
      "userId": "14224333895353448832"
     },
     "user_tz": -60
    },
    "id": "8UeBv1Q9KREQ",
    "outputId": "fddb0f33-12f5-439d-8b33-499a2e7b3347"
   },
   "outputs": [],
   "source": [
    "bit_flip_mutation([0,1,1,1,0], 0.2)"
   ]
  },
  {
   "cell_type": "markdown",
   "metadata": {
    "id": "KcI1N6JodnPT"
   },
   "source": [
    "One essential step is the initial generation of the population. This can be done by generating uniformly at random ```pop_size``` individuals of $n$ bits:"
   ]
  },
  {
   "cell_type": "code",
   "execution_count": null,
   "metadata": {
    "executionInfo": {
     "elapsed": 408,
     "status": "ok",
     "timestamp": 1611051685582,
     "user": {
      "displayName": "Luca Manzoni",
      "photoUrl": "https://lh3.googleusercontent.com/a-/AOh14Ghe29ailJMHOhIfcMMV-n6KoyZgpvKhU0y8mcacAg=s64",
      "userId": "14224333895353448832"
     },
     "user_tz": -60
    },
    "id": "HqbFtP4RaJcX"
   },
   "outputs": [],
   "source": [
    "def init_population(pop_size, n):\n",
    "  return [random.choices([0,1], k = n) for _ in range(0, pop_size)]"
   ]
  },
  {
   "cell_type": "markdown",
   "metadata": {
    "id": "K-krc7Q2d4RT"
   },
   "source": [
    "We also add a function to return the best indvidual in the population and its fitness:"
   ]
  },
  {
   "cell_type": "code",
   "execution_count": null,
   "metadata": {
    "executionInfo": {
     "elapsed": 422,
     "status": "ok",
     "timestamp": 1611051713785,
     "user": {
      "displayName": "Luca Manzoni",
      "photoUrl": "https://lh3.googleusercontent.com/a-/AOh14Ghe29ailJMHOhIfcMMV-n6KoyZgpvKhU0y8mcacAg=s64",
      "userId": "14224333895353448832"
     },
     "user_tz": -60
    },
    "id": "VZdgz2D6a2T9"
   },
   "outputs": [],
   "source": [
    "def get_best(pop, fit):\n",
    "  return max([(fit(x), x) for x in pop]) # (best_finess, individual)"
   ]
  },
  {
   "cell_type": "markdown",
   "metadata": {
    "id": "362Gkksgd-6H"
   },
   "source": [
    "A single generation is done by performing three steps:\n",
    "- selection (with tournament selection)\n",
    "- crossover (with one-point crossover)\n",
    "- mutation (with bit-flip mutation)"
   ]
  },
  {
   "cell_type": "code",
   "execution_count": null,
   "metadata": {
    "executionInfo": {
     "elapsed": 450,
     "status": "ok",
     "timestamp": 1611051824484,
     "user": {
      "displayName": "Luca Manzoni",
      "photoUrl": "https://lh3.googleusercontent.com/a-/AOh14Ghe29ailJMHOhIfcMMV-n6KoyZgpvKhU0y8mcacAg=s64",
      "userId": "14224333895353448832"
     },
     "user_tz": -60
    },
    "id": "DhNWCzfFXsA4"
   },
   "outputs": [],
   "source": [
    "def generation(pop, fit, t_size, p_m):\n",
    "  pop_size = len(pop)\n",
    "  selected = [tournament_selection(pop, fit, t_size) for _ in range(0,pop_size)]\n",
    "  offsprings = [one_point_crossover(x, y) for x,y in zip(selected[0::2], selected[1::2])] # (x0, x1), (x2, 3), ...\n",
    "  offsprings = [ind for pair in offsprings for ind in pair]\n",
    "  return list(map(lambda x: bit_flip_mutation(x, p_m), offsprings))"
   ]
  },
  {
   "cell_type": "markdown",
   "metadata": {
    "id": "1B3uOcbweNdn"
   },
   "source": [
    "A GA simply perform a generational cycle a predefined number of times:"
   ]
  },
  {
   "cell_type": "code",
   "execution_count": null,
   "metadata": {
    "executionInfo": {
     "elapsed": 997,
     "status": "ok",
     "timestamp": 1611051899287,
     "user": {
      "displayName": "Luca Manzoni",
      "photoUrl": "https://lh3.googleusercontent.com/a-/AOh14Ghe29ailJMHOhIfcMMV-n6KoyZgpvKhU0y8mcacAg=s64",
      "userId": "14224333895353448832"
     },
     "user_tz": -60
    },
    "id": "37ke705TYmMm"
   },
   "outputs": [],
   "source": [
    "def GA(pop_size, n, fit, t_size = 4, n_gen = 10):\n",
    "  p_m = 1/n\n",
    "  pop = init_population(pop_size, n)\n",
    "  for i in range(0, n_gen):\n",
    "    print(get_best(pop, fit))\n",
    "    pop = generation(pop, fit, t_size, p_m)\n",
    "  return get_best(pop, fit)"
   ]
  },
  {
   "cell_type": "code",
   "execution_count": null,
   "metadata": {
    "colab": {
     "base_uri": "https://localhost:8080/"
    },
    "executionInfo": {
     "elapsed": 517,
     "status": "ok",
     "timestamp": 1611051924821,
     "user": {
      "displayName": "Luca Manzoni",
      "photoUrl": "https://lh3.googleusercontent.com/a-/AOh14Ghe29ailJMHOhIfcMMV-n6KoyZgpvKhU0y8mcacAg=s64",
      "userId": "14224333895353448832"
     },
     "user_tz": -60
    },
    "id": "A0ZQyjb8bLqH",
    "outputId": "6f66036e-7226-4cfc-9daa-1499456b6317"
   },
   "outputs": [],
   "source": [
    "GA(20, 20, onemax, n_gen=100)"
   ]
  },
  {
   "cell_type": "markdown",
   "metadata": {
    "id": "sIwTX7zDeYr-"
   },
   "source": [
    "### Elitism\n",
    "\n",
    "Now we can force the population to always contain the best individual found so far"
   ]
  },
  {
   "cell_type": "code",
   "execution_count": null,
   "metadata": {},
   "outputs": [],
   "source": [
    "from functools import reduce\n",
    "\n",
    "def generation_elitist(pop, fit, t_size, p_m, elitism=True):\n",
    "  best_fit, best = reduce(max, [(fit(x), x) for x in pop])\n",
    "  pop_size = len(pop)\n",
    "  selected = [tournament_selection(pop, fit, t_size) for _ in range(0,pop_size)]\n",
    "  offsprings = [one_point_crossover(x, y) for x,y in zip(selected[0::2], selected[1::2])]\n",
    "  offsprings = [ind for pair in offsprings for ind in pair]\n",
    "  mutated_offsprings = list(map(lambda x: bit_flip_mutation(x, p_m), offsprings))\n",
    "  best_fit_new, _ = reduce(max, [(fit(x), x) for x in mutated_offsprings])\n",
    "  if best_fit_new < best_fit:\n",
    "    # we remove one individual and replace it with the best\n",
    "    mutated_offsprings[0] = best \n",
    "  return mutated_offsprings\n",
    "\n",
    "def GA(pop_size, n, fit, t_size = 4, n_gen = 10, elitism = False):\n",
    "  p_m = 1/n\n",
    "  pop = init_population(pop_size, n)\n",
    "  for i in range(0, n_gen):\n",
    "    print(get_best(pop, fit))\n",
    "    pop = generation_elitist(pop, fit, t_size, p_m, elitism)\n",
    "  return get_best(pop, fit)"
   ]
  },
  {
   "cell_type": "code",
   "execution_count": null,
   "metadata": {},
   "outputs": [],
   "source": [
    "GA(10, 20, onemax, n_gen=20, elitism=True)\n"
   ]
  },
  {
   "cell_type": "code",
   "execution_count": null,
   "metadata": {},
   "outputs": [],
   "source": [
    "objects_value = [3, 5, 1, 9, 1, 4, 8, 2, 4, 2]\n",
    "objects_weights = [8, 3, 1, 4, 1, 3, 2, 5, 7, 1]\n",
    "max_capacity = 17\n",
    "\n",
    "def knapsack_fitness(ind):\n",
    "    tot_value = 0\n",
    "    tot_weight = 0\n",
    "    for i, choice in enumerate(ind):\n",
    "        if choice == 1:\n",
    "            tot_value += objects_value[i]\n",
    "            tot_weight += objects_weights[i]\n",
    "    if tot_weight > max_capacity:\n",
    "        return -100\n",
    "    else:\n",
    "        return tot_value"
   ]
  },
  {
   "cell_type": "code",
   "execution_count": null,
   "metadata": {},
   "outputs": [],
   "source": [
    "random_sample = lambda: random.choices([0,1], k=10)\n",
    "sol = random_search(knapsack_fitness, random_sample)\n",
    "print(knapsack_fitness(sol), sol)"
   ]
  },
  {
   "cell_type": "code",
   "execution_count": null,
   "metadata": {},
   "outputs": [],
   "source": [
    "starting_point = random.choices([0,1], k = 10)\n",
    "print(starting_point)\n",
    "sol1 = hill_climbing(knapsack_fitness, neigh_int, starting_point)\n",
    "sol2 = hill_climbing(knapsack_fitness, neigh_hamming, starting_point)\n",
    "print(knapsack_fitness(sol1), sol1)\n",
    "print(knapsack_fitness(sol2), sol2)"
   ]
  },
  {
   "cell_type": "code",
   "execution_count": null,
   "metadata": {},
   "outputs": [],
   "source": [
    "starting_point = random.choices([0,1], k = 10)\n",
    "print(starting_point)\n",
    "sol1 = simulated_annealing(knapsack_fitness, neigh_int, starting_point, schedule)\n",
    "sol2 = simulated_annealing(knapsack_fitness, neigh_hamming, starting_point, schedule)\n",
    "print(knapsack_fitness(sol1), sol1)\n",
    "print(knapsack_fitness(sol2), sol2)"
   ]
  },
  {
   "cell_type": "code",
   "execution_count": null,
   "metadata": {},
   "outputs": [],
   "source": [
    "GA(10, 10, knapsack_fitness, n_gen=20, elitism=True)"
   ]
  },
  {
   "cell_type": "code",
   "execution_count": null,
   "metadata": {},
   "outputs": [],
   "source": []
  }
 ],
 "metadata": {
  "colab": {
   "authorship_tag": "ABX9TyOoj2ymunod7zUKCZKwpzwc",
   "collapsed_sections": [],
   "name": "Lecture 1 - single state methods and GA.ipynb",
   "provenance": []
  },
  "kernelspec": {
   "display_name": "default",
   "language": "python",
   "name": "python3"
  },
  "language_info": {
   "codemirror_mode": {
    "name": "ipython",
    "version": 3
   },
   "file_extension": ".py",
   "mimetype": "text/x-python",
   "name": "python",
   "nbconvert_exporter": "python",
   "pygments_lexer": "ipython3",
   "version": "3.13.7"
  }
 },
 "nbformat": 4,
 "nbformat_minor": 4
}
