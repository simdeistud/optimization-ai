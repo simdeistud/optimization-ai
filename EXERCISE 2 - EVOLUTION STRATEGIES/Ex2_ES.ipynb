{
 "cells": [
  {
   "cell_type": "markdown",
   "metadata": {},
   "source": [
    "# Finding the parameters of Lotka-Volterra equations with Evolution Strategies\n",
    "\n",
    "The Lotka-Volterra equations, named after Alfred Lotka and Vito Volterra, are a mathematical model for understanding how the populations of predator and prey species can influence each other's growth and evolution over time. The equations consist of two coupled first-order differential equations, one for the predator population ($Y$) and one for the prey population ($X$):\n",
    "\n",
    "$$  \\frac{dX}{dt} = rX - aXY $$\n",
    "\n",
    "$$  \\frac{dY}{dt} = bXY -zY $$\n",
    "\n",
    "Equations are defined by a set of parameters, such as $r$, $a$, $z$, and $b$, in the previous formulation.\n",
    "\n",
    "The goal of this lab session is to find the parameters of a dynamic system defined by Lotka-Volterra equations leveraging **Evolution Strategies** (ES). We will consider having access to the trajectories corresponding to a single simulation.\n",
    "\n",
    "First of all, let us import some useful modules and functions."
   ]
  },
  {
   "cell_type": "code",
   "metadata": {},
   "source": [
    "import numpy as np\n",
    "import matplotlib.pyplot as plt\n",
    "import random\n",
    "from scipy.integrate import odeint #solver for a system of ordinary differential equations\n",
    "import sklearn as sk\n",
    "\n",
    "random.seed(0)\n",
    "np.random.seed(0)"
   ],
   "outputs": [],
   "execution_count": null
  },
  {
   "cell_type": "markdown",
   "metadata": {},
   "source": [
    "Now, we want to write the code to actually perform the simulation and get our trajectories.  Let's define a function that, given the current state, the time instant, and the parameters, returns the derivatives calculated by the Lotka-Volterra equations. We don't know who is the prey and the predator a priori, the sign is given by the parameter itself!"
   ]
  },
  {
   "cell_type": "code",
   "metadata": {},
   "source": [
    "# Define the Lotka-Volterra equations\n",
    "def lotka_volterra(state, t, params):\n",
    "    dxdt = params[0][0]*state[0] - params[0][1]*state[0]*state[1]\n",
    "    dydt = params[1][0]*state[0]*state[1] - params[1][1]*state[1]\n",
    "    return [dxdt, dydt]"
   ],
   "outputs": [],
   "execution_count": null
  },
  {
   "cell_type": "markdown",
   "metadata": {},
   "source": [
    "Now we arbitrarily choose the initial conditions of our simulation, a set of parameters and the time vector."
   ]
  },
  {
   "cell_type": "code",
   "metadata": {},
   "source": [
    "# Set the initial conditions and parameters\n",
    "initial_conditions = [30, 15]  # Initial populations of species X and Y\n",
    "\n",
    "real_params = np.array(\n",
    "    [[0.1, 0.02],\n",
    "    [0.01, 0.1]],\n",
    ")\n",
    "\n",
    "# Create a time vector\n",
    "t = np.linspace(0, 100, 1000)\n",
    "\n",
    "# Solve the differential equations using odeint\n",
    "solution = odeint(lotka_volterra, initial_conditions, t, args=(real_params,))\n",
    "# Extract the populations of each species\n",
    "x, y = solution.T"
   ],
   "outputs": [],
   "execution_count": null
  },
  {
   "cell_type": "code",
   "metadata": {},
   "source": [
    "# Plot the results\n",
    "plt.figure(figsize=(10, 6))\n",
    "plt.plot(t, x, label='Species X')\n",
    "plt.plot(t, y, label='Species Y')\n",
    "plt.xlabel('Time')\n",
    "plt.ylabel('Population')\n",
    "plt.legend()\n",
    "plt.title('Lotka-Volterra Model with 2 Species')\n",
    "plt.grid(True)\n",
    "plt.show()"
   ],
   "outputs": [],
   "execution_count": null
  },
  {
   "cell_type": "markdown",
   "metadata": {},
   "source": [
    "Now, let's assume we don't know the parameters that generated the previous trajectories. We aim to find them using ES!\n",
    "\n",
    "Define a fitness function which suits the problem. Each individual is a set of parameters for the Lotka-Volterra equations and we want to get as close as possible to the actual one through the evolution."
   ]
  },
  {
   "metadata": {},
   "cell_type": "markdown",
   "source": [
    "The fitness will be the inverse of the RMSE for the individual wrt the actual target function where $T=\\{t\\in\\mathbb{N}:0<=t<=1000\\}$ and the initial conditions are $(X=30, Y=10)$.\n",
    "\n",
    "$$\\text{fit}(g)=\\frac{\\text{RMSE}(X_{real}, X_{pred}) + \\text{RMSE}(Y_{real}, Y_{pred})}{2}$$"
   ]
  },
  {
   "metadata": {},
   "cell_type": "code",
   "source": [
    "# Fitness function\n",
    "def fit(individual):\n",
    "    xp, yp = odeint(lotka_volterra, initial_conditions, t, args=(individual,)).T\n",
    "    fitness = (sk.metrics.root_mean_squared_error(x, xp) + sk.metrics.mean_squared_error(y, yp))/2\n",
    "    return fitness"
   ],
   "outputs": [],
   "execution_count": null
  },
  {
   "metadata": {},
   "cell_type": "markdown",
   "source": "Define a class for our ES. It must implement the One-Fifth Rule for variance self-adaptation. Implement a strategy of your choice for recombination."
  },
  {
   "cell_type": "code",
   "metadata": {},
   "source": [
    "def recombination(parents):\n",
    "    return parents[random.randint(0, len(parents) - 1)]"
   ],
   "outputs": [],
   "execution_count": null
  },
  {
   "cell_type": "code",
   "metadata": {},
   "source": [
    "class EvolutionStrategy(object):\n",
    "\n",
    "    def __init__(self, mu, lmb, ro, fit, rec, individual_shape, limits, plus=False, initial_variance=1, k=10, c=0.5):\n",
    "        self.mu = mu\n",
    "        self.lmb = lmb\n",
    "        self.ro = ro\n",
    "        self.plus = plus\n",
    "        self.fit = fit\n",
    "        self.rec = rec #recombination strategy\n",
    "        self.individual_shape = individual_shape\n",
    "        self.limits = limits\n",
    "        self.pop = []\n",
    "        self.variance = initial_variance\n",
    "        self.k = k\n",
    "        self.c = c\n",
    "        self.k_counter = 0\n",
    "\n",
    "        # Initialize the population\n",
    "        lower, upper = self.limits\n",
    "        for _ in range(self.lmb):\n",
    "            individual = np.zeros(self.individual_shape)\n",
    "            for i in range(self.individual_shape[0]):\n",
    "                for j in range(self.individual_shape[1]):\n",
    "                    individual[i,j] = random.uniform(lower, upper)\n",
    "            self.pop.append(individual)\n",
    "        self.best = min(self.pop, key=self.fit)\n",
    "        self.best_fit=self.fit(self.best)\n",
    "\n",
    "    def generation(self):\n",
    "        # CODE HERE\n",
    "        self.k_counter += 1\n",
    "        self.truncated_selection()\n",
    "        new_pop = []\n",
    "        fitter = 0\n",
    "        p_s = 0\n",
    "        for i in range(0, self.lmb):\n",
    "            # recombination + mutation\n",
    "            old_ind = recombination(self.pop)\n",
    "            new_ind = self.mutation(old_ind)\n",
    "            if self.fit(new_ind) < self.fit(old_ind):\n",
    "                fitter = fitter + 1\n",
    "            new_pop.append(new_ind)\n",
    "        p_s = fitter / len(new_pop)\n",
    "        if self.k_counter % self.k == 0:\n",
    "            # 1/5 rule\n",
    "            self.variance = self.variance / self.c if p_s >= 0.20 else self.variance * self.c\n",
    "        if self.plus:\n",
    "            self.pop = self.pop + new_pop\n",
    "        else:\n",
    "            self.pop = new_pop\n",
    "        candidate_best = min(self.pop, key=self.fit)\n",
    "        if self.fit(self.best) > self.fit(candidate_best):\n",
    "            self.best = candidate_best\n",
    "            self.best_fit = self.fit(self.best)\n",
    "\n",
    "    def mutation(self, individual):\n",
    "        mutated_individual = np.zeros(self.individual_shape)\n",
    "        lower, upper = self.limits\n",
    "        for i in range(self.individual_shape[0]):\n",
    "            for j in range(self.individual_shape[1]):\n",
    "                mut = np.random.normal(loc=0, scale=self.variance)\n",
    "                mutparam = individual[i,j] + mut\n",
    "                mutated_individual[i,j] = mutparam if lower < mutparam < upper else upper if mutparam > 0 else lower\n",
    "        return mutated_individual\n",
    "\n",
    "    def truncated_selection(self):\n",
    "        list.sort(self.pop, key=self.fit)\n",
    "        self.pop = self.pop[0:self.mu]\n",
    "\n",
    "    def __str__(self):\n",
    "        s = f\"Best individual: {self.best}\\n\"\n",
    "        s += f\"with fitness {self.fit(self.best)}\"\n",
    "        return s"
   ],
   "outputs": [],
   "execution_count": null
  },
  {
   "cell_type": "markdown",
   "metadata": {},
   "source": [
    "Run the evolution and save the best fitness score for each generation."
   ]
  },
  {
   "cell_type": "code",
   "metadata": {},
   "source": [
    "ES = EvolutionStrategy(50, 100, 2, fit, recombination, (2, 2), [-0.2, 0.2], k=20, plus=True)\n",
    "history = [ES.best_fit]\n",
    "n_gen = 300\n",
    "for i in range(0, n_gen):\n",
    "    ES.generation()\n",
    "    history.append(ES.best_fit)"
   ],
   "outputs": [],
   "execution_count": null
  },
  {
   "cell_type": "markdown",
   "metadata": {},
   "source": [
    "Plot and visualize the results"
   ]
  },
  {
   "cell_type": "code",
   "metadata": {},
   "source": [
    "import matplotlib.pyplot as plt\n",
    "\n",
    "plt.plot(history)\n",
    "plt.ylabel('Fitness')\n",
    "plt.xlabel('Generation')\n",
    "plt.show()"
   ],
   "outputs": [],
   "execution_count": null
  },
  {
   "cell_type": "code",
   "metadata": {},
   "source": [
    "res_best = odeint(lotka_volterra, initial_conditions, t, args=(ES.best,))\n",
    "\n",
    "# Extract the populations of each species\n",
    "x, y = res_best.T"
   ],
   "outputs": [],
   "execution_count": null
  },
  {
   "cell_type": "code",
   "metadata": {},
   "source": [
    "# Plot the results\n",
    "plt.figure(figsize=(10, 6))\n",
    "plt.plot(t, x, label='Species X')\n",
    "plt.plot(t, y, label='Species Y')\n",
    "plt.xlabel('Time')\n",
    "plt.ylabel('Population')\n",
    "plt.legend()\n",
    "plt.title('Lotka-Volterra Model with 2 Species')\n",
    "plt.grid(True)\n",
    "plt.show()"
   ],
   "outputs": [],
   "execution_count": null
  },
  {
   "cell_type": "code",
   "metadata": {},
   "source": [
    "print(ES)"
   ],
   "outputs": [],
   "execution_count": null
  }
 ],
 "metadata": {
  "kernelspec": {
   "display_name": "optai",
   "language": "python",
   "name": "python3"
  },
  "language_info": {
   "codemirror_mode": {
    "name": "ipython",
    "version": 3
   },
   "file_extension": ".py",
   "mimetype": "text/x-python",
   "name": "python",
   "nbconvert_exporter": "python",
   "pygments_lexer": "ipython3",
   "version": "3.11.5"
  }
 },
 "nbformat": 4,
 "nbformat_minor": 2
}
