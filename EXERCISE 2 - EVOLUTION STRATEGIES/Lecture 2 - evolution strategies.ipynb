{
 "cells": [
  {
   "cell_type": "markdown",
   "metadata": {
    "id": "X5ioxxgXO3el"
   },
   "source": [
    "# Evolution Strategies"
   ]
  },
  {
   "cell_type": "markdown",
   "metadata": {
    "id": "gTy4nXGKO3et"
   },
   "source": [
    "In this notebook we explore how to implement both $(\\mu,\\lambda)$ and $(\\mu + \\lambda)$ evolution strategies. We show how the evolution process works on multiple continuous benchmark function in two dimensions."
   ]
  },
  {
   "cell_type": "code",
   "metadata": {
    "executionInfo": {
     "elapsed": 627,
     "status": "ok",
     "timestamp": 1611052739943,
     "user": {
      "displayName": "Luca Manzoni",
      "photoUrl": "https://lh3.googleusercontent.com/a-/AOh14Ghe29ailJMHOhIfcMMV-n6KoyZgpvKhU0y8mcacAg=s64",
      "userId": "14224333895353448832"
     },
     "user_tz": -60
    },
    "id": "enM0wix4O3eu"
   },
   "source": [
    "%matplotlib inline\n",
    "import matplotlib\n",
    "import numpy as np\n",
    "import matplotlib.cm as cm\n",
    "import matplotlib.pyplot as plt\n",
    "import random\n",
    "\n",
    "plt.rcParams['figure.figsize'] = [30, 30]"
   ],
   "outputs": [],
   "execution_count": null
  },
  {
   "cell_type": "markdown",
   "metadata": {
    "id": "eSV-dIYMO3eu"
   },
   "source": [
    "In the examples we will emply some syntheric benchmark functions:\n",
    "\n",
    "- **Sphere**, defined as $$f(x_1, \\ldots, x_n) = \\sum_{i=1}^n x_i^2$$ in the entire set $\\mathbb{R}^n$ (we will explore only $[-5, 5]^n$), with a global minima in $(0,\\ldots,0)$. This function is unimodal and easy to optimize.\n",
    "\n",
    "- **Rastrigin**, defined as $$f(x_1, \\ldots, x_n) = 20 + \\sum_{i=1}^n x_i^2 - 10\\cos(2\\pi x_i)$$ in the interval $[-5.12, 5.12]^n$, where it has a global minima in $(0,0,\\ldots, 0)$.\n",
    "\n",
    "- **Ackley**, defined as $$f(x, y) = -20 e^{-0.2\\sqrt{0.5(x^2 - y^2)}} - e^{0.5(\\cos(2\\pi x) + \\cos(2\\pi y))} + e + 20$$ in the interval $[-5,5]^2$, where it has a global minima in $(0,0)$.\n",
    "\n",
    "- **Eggholder**, defined as $$f(x,y) = -(y+47)\\sin\\left(\\sqrt{\\left|\\frac{x}{2} + y + 47\\right|}\\right) - x\\sin(\\sqrt{|x-(y+47|})$$ in the interval $[-512,+512]$, where it has a global optimum in $(512, 404.2319)$."
   ]
  },
  {
   "cell_type": "code",
   "metadata": {
    "executionInfo": {
     "elapsed": 527,
     "status": "ok",
     "timestamp": 1611052701358,
     "user": {
      "displayName": "Luca Manzoni",
      "photoUrl": "https://lh3.googleusercontent.com/a-/AOh14Ghe29ailJMHOhIfcMMV-n6KoyZgpvKhU0y8mcacAg=s64",
      "userId": "14224333895353448832"
     },
     "user_tz": -60
    },
    "id": "90ihJpfBO3ev"
   },
   "source": [
    "def sphere(point):\n",
    "    x, y = point\n",
    "    res = x**2 + y**2\n",
    "    return res\n",
    "\n",
    "def rastrigin(point):\n",
    "    x, y = point\n",
    "    res = 20 + (x**2 - 10*np.cos(2*np.pi*x)) + (y**2 - 10*np.cos(2*np.pi*y))\n",
    "    return res\n",
    "\n",
    "def ackley(point):\n",
    "    x, y = point\n",
    "    res = -20 * np.e**(-0.2*np.sqrt(0.5*(x**2 + y**2))) -np.e**(0.5*(np.cos(2*np.pi*x) + np.cos(2*np.pi*y))) + np.e + 20\n",
    "    return res\n",
    "\n",
    "def eggholder(point):\n",
    "    x, y = point\n",
    "    res = -(y + 47)*np.sin(np.sqrt(np.abs(x/2 + y + 47))) - x*np.sin(np.sqrt(np.abs(x-(y+47))))\n",
    "    return res"
   ],
   "outputs": [],
   "execution_count": null
  },
  {
   "cell_type": "markdown",
   "metadata": {
    "id": "EWjS62Z-O3ev"
   },
   "source": [
    "We now show the contour plot of the benchmark functions that we have selected"
   ]
  },
  {
   "cell_type": "code",
   "metadata": {
    "colab": {
     "base_uri": "https://localhost:8080/",
     "height": 1000
    },
    "executionInfo": {
     "elapsed": 1901,
     "status": "ok",
     "timestamp": 1611052745784,
     "user": {
      "displayName": "Luca Manzoni",
      "photoUrl": "https://lh3.googleusercontent.com/a-/AOh14Ghe29ailJMHOhIfcMMV-n6KoyZgpvKhU0y8mcacAg=s64",
      "userId": "14224333895353448832"
     },
     "user_tz": -60
    },
    "id": "b3xxXnJQO3ev",
    "outputId": "2827e87d-cc9c-49fd-dead-02cc0ae47067"
   },
   "source": [
    "fig, ax = plt.subplots(2,2)\n",
    "plt.set_cmap('cool')\n",
    "\n",
    "# Plot for Sphere function\n",
    "x = np.linspace(-5, 5, 200)\n",
    "y = np.linspace(-5, 5, 200)\n",
    "X_SP, Y_SP = np.meshgrid(x, y)\n",
    "SP = sphere([X_SP, Y_SP])\n",
    "ax[0][0].contourf(X_SP, Y_SP, SP)\n",
    "ax[0][0].scatter([0], [0], marker='x', color='red')\n",
    "\n",
    "# Plot for Rastrigin function\n",
    "x = np.linspace(-5.12, 5.12, 200)\n",
    "y = np.linspace(-5.12, 5.12, 200)\n",
    "X_RS, Y_RS = np.meshgrid(x, y)\n",
    "RS = rastrigin([X_RS, Y_RS])\n",
    "ax[0][1].contourf(X_RS, Y_RS, RS)\n",
    "ax[0][1].scatter([0], [0], marker='x', color='red')\n",
    "\n",
    "# Plot for Ackley function\n",
    "x = np.linspace(-5, 5, 200)\n",
    "y = np.linspace(-5, 5, 200)\n",
    "X_AK, Y_AK = np.meshgrid(x, y)\n",
    "AK = ackley([X_AK, Y_AK])\n",
    "ax[1][0].contourf(X_AK, Y_AK, AK)\n",
    "ax[1][0].scatter([0], [0], marker='x', color='red')\n",
    "\n",
    "# Plot for Eggholder function\n",
    "x = np.linspace(-512, 550, 200)\n",
    "y = np.linspace(-512, 512, 200)\n",
    "X_EH, Y_EH = np.meshgrid(x, y)\n",
    "EH = eggholder([X_EH, Y_EH])\n",
    "ax[1][1].contourf(X_EH, Y_EH, EH)\n",
    "ax[1][1].scatter([512], [404.2319], marker='x', color='red')\n",
    "\n",
    "plt.show()"
   ],
   "outputs": [],
   "execution_count": null
  },
  {
   "cell_type": "markdown",
   "metadata": {
    "id": "IVsuquiuO3ex"
   },
   "source": [
    "In the following class we define a ES algorithm with the following parameters:\n",
    "\n",
    "- `mu`, `lmb` are the values $\\mu$ and $\\lambda$ of the ES algorithm\n",
    "- `fit` is the fitness function to employ\n",
    "- `limits` is a list of pairs of numbers representing the lower and upper limits of the search space for each of the coordinates\n",
    "- `plus` (default `False`). If false then a $(\\mu, \\lambda)$ ES is used, if true then a $(\\mu + \\lambda)$ ES is used instead\n",
    "- `variance` (default `0.5`). Mutation is performed by adding a gaussian noise to each of the coordinates extracted from $N(0,\\sigma^2)$ where $\\sigma^2$ is given by this parameter"
   ]
  },
  {
   "cell_type": "code",
   "metadata": {
    "executionInfo": {
     "elapsed": 659,
     "status": "ok",
     "timestamp": 1611053022922,
     "user": {
      "displayName": "Luca Manzoni",
      "photoUrl": "https://lh3.googleusercontent.com/a-/AOh14Ghe29ailJMHOhIfcMMV-n6KoyZgpvKhU0y8mcacAg=s64",
      "userId": "14224333895353448832"
     },
     "user_tz": -60
    },
    "id": "9XaaeuGKO3ex"
   },
   "source": [
    "class EvolutionStrategy(object):\n",
    "    \n",
    "    def __init__(self, mu, lmb, fit, limits, k, c, plus, variance=0.5):\n",
    "        self.mu = mu\n",
    "        self.lmb = lmb\n",
    "        self.plus = plus\n",
    "        self.fit = fit\n",
    "        self.limits = limits\n",
    "        self.pop = []\n",
    "        self.variance = variance\n",
    "        self.gen = 0\n",
    "        self.k = k\n",
    "        self.c = c\n",
    "        self.p_s = 0\n",
    "        for i in range(0,self.lmb):\n",
    "            individual = []\n",
    "            for lower, upper in self.limits:\n",
    "                individual.append(random.uniform(lower, upper))\n",
    "            self.pop.append(individual)\n",
    "        self.best = min(self.pop, key=self.fit)\n",
    "    \n",
    "    def generation(self):\n",
    "        self.gen += 1\n",
    "        self.truncated_selection()\n",
    "        new_pop = []\n",
    "        fitter = 0\n",
    "        for i in range(0, self.lmb):\n",
    "            old_ind = self.pop[i%self.mu]\n",
    "            new_ind = self.mutation(old_ind)\n",
    "            if self.fit(new_ind) > self.fit(old_ind):\n",
    "                fitter = fitter + 1\n",
    "            new_pop.append(new_ind)\n",
    "        self.p_s = fitter / len(new_pop)\n",
    "        if self.gen % self.k == 0:\n",
    "            self.variance = self.variance / self.c if self.p_s >= 0.20 else self.variance * self.c\n",
    "        if self.plus:\n",
    "            self.pop = self.pop + new_pop\n",
    "        else:\n",
    "            self.pop = new_pop\n",
    "        candidate_best = min(self.pop, key=self.fit)\n",
    "        if self.fit(self.best) > self.fit(candidate_best):\n",
    "            self.best = candidate_best\n",
    "    \n",
    "    def mutation(self, individual):\n",
    "        # This is simply the addition of a gaussian noise to each coordinate.\n",
    "        # There is the possibility of defining an *adaptive* mutation\n",
    "        new_ind = []\n",
    "        for i, coord in enumerate(individual):\n",
    "            tmp = coord + random.gauss(0, self.variance)\n",
    "            # We clip to the limits if the mutation moves us outside the borders\n",
    "            if tmp < self.limits[i][0]:\n",
    "                tmp = self.limits[i][0]\n",
    "            if tmp > self.limits[i][1]:\n",
    "                tmp = self.limits[i][1]\n",
    "            new_ind.append(tmp)\n",
    "        return new_ind\n",
    "    \n",
    "    def truncated_selection(self):\n",
    "        list.sort(self.pop, key=self.fit)\n",
    "        self.pop = self.pop[0:self.mu]\n",
    "        \n",
    "    def __str__(self):\n",
    "        s = f\"Best individual: {self.best}\\n\"\n",
    "        s += f\"with fitness {self.fit(self.best)}\"\n",
    "        return s\n",
    "\n",
    "def display_pop2D(pop, ax):\n",
    "    ax.scatter([x for x, y in pop], [y for x, y in pop], color='yellow')"
   ],
   "outputs": [],
   "execution_count": null
  },
  {
   "cell_type": "code",
   "metadata": {
    "executionInfo": {
     "elapsed": 1030,
     "status": "ok",
     "timestamp": 1611053038618,
     "user": {
      "displayName": "Luca Manzoni",
      "photoUrl": "https://lh3.googleusercontent.com/a-/AOh14Ghe29ailJMHOhIfcMMV-n6KoyZgpvKhU0y8mcacAg=s64",
      "userId": "14224333895353448832"
     },
     "user_tz": -60
    },
    "id": "GnnQ2QxdO3ey"
   },
   "source": [
    "def display_evolution(pop_list, row, columns, X, Y, function, opt=[0,0]):\n",
    "    n_gen = len(pop_list) - 1\n",
    "    fig, ax = plt.subplots(row, columns)\n",
    "    for i in range(0,row):\n",
    "        for j in range(0,columns):\n",
    "            ax[i][j].contourf(X, Y, function)\n",
    "            ax[i][j].scatter(opt[0], opt[1], marker='x', color='red')\n",
    "            gen = (columns*i+j)*(n_gen//(row*columns-1))\n",
    "            display_pop2D(pop_list[gen], ax[i][j])\n",
    "    plt.show()"
   ],
   "outputs": [],
   "execution_count": null
  },
  {
   "metadata": {},
   "cell_type": "code",
   "source": [
    "# Set the parameters for the 1/5 rule\n",
    "k = 5\n",
    "c = 0.9"
   ],
   "outputs": [],
   "execution_count": null
  },
  {
   "cell_type": "code",
   "metadata": {
    "colab": {
     "base_uri": "https://localhost:8080/",
     "height": 1000
    },
    "executionInfo": {
     "elapsed": 2630,
     "status": "ok",
     "timestamp": 1611053061869,
     "user": {
      "displayName": "Luca Manzoni",
      "photoUrl": "https://lh3.googleusercontent.com/a-/AOh14Ghe29ailJMHOhIfcMMV-n6KoyZgpvKhU0y8mcacAg=s64",
      "userId": "14224333895353448832"
     },
     "user_tz": -60
    },
    "id": "FX9MijZAO3ez",
    "outputId": "65b80223-d8cc-4566-f38b-81233ff92cc7"
   },
   "source": [
    "random.seed(0)\n",
    "ES = EvolutionStrategy(1, 3, sphere, [[-5, 5], [-5, 5]], k, c, plus=True)\n",
    "pop_list = [ES.pop]\n",
    "n_gen = 600\n",
    "for i in range(0, n_gen):\n",
    "    ES.generation()\n",
    "    pop_list.append(ES.pop)\n",
    "    if (i+1)%k == 0: print(f\"Gen: {i+1}, Var: {ES.variance}\")\n",
    "display_evolution(pop_list, 3, 3, X_SP, Y_SP, SP)"
   ],
   "outputs": [],
   "execution_count": null
  },
  {
   "cell_type": "code",
   "metadata": {
    "colab": {
     "base_uri": "https://localhost:8080/",
     "height": 1000
    },
    "executionInfo": {
     "elapsed": 2684,
     "status": "ok",
     "timestamp": 1611053099503,
     "user": {
      "displayName": "Luca Manzoni",
      "photoUrl": "https://lh3.googleusercontent.com/a-/AOh14Ghe29ailJMHOhIfcMMV-n6KoyZgpvKhU0y8mcacAg=s64",
      "userId": "14224333895353448832"
     },
     "user_tz": -60
    },
    "id": "T6DImAYXO3ez",
    "outputId": "9d3bf928-6e82-4910-bb34-27495e5b6431"
   },
   "source": [
    "random.seed(0)\n",
    "ES = EvolutionStrategy(1, 3, rastrigin, [[-5.12, 5.12], [-5.12, 5.12]], k, c, plus=True)\n",
    "pop_list = [ES.pop]\n",
    "n_gen = 600\n",
    "for i in range(0, n_gen):\n",
    "    ES.generation()\n",
    "    pop_list.append(ES.pop)\n",
    "    if (i+1)%k == 0: print(f\"Gen: {i+1}, Var: {ES.variance}\")\n",
    "display_evolution(pop_list, 3, 3, X_RS, Y_RS, RS)"
   ],
   "outputs": [],
   "execution_count": null
  },
  {
   "cell_type": "code",
   "metadata": {
    "colab": {
     "base_uri": "https://localhost:8080/",
     "height": 1000
    },
    "executionInfo": {
     "elapsed": 3308,
     "status": "ok",
     "timestamp": 1611053146278,
     "user": {
      "displayName": "Luca Manzoni",
      "photoUrl": "https://lh3.googleusercontent.com/a-/AOh14Ghe29ailJMHOhIfcMMV-n6KoyZgpvKhU0y8mcacAg=s64",
      "userId": "14224333895353448832"
     },
     "user_tz": -60
    },
    "id": "eHrpdQNyO3e0",
    "outputId": "4505aceb-a6f8-4d4d-a4ee-3ea5580f5476"
   },
   "source": [
    "random.seed(0)\n",
    "ES = EvolutionStrategy(1, 3, ackley, [[-5, 5], [-5, 5]], k, c, plus=True)\n",
    "pop_list = [ES.pop]\n",
    "n_gen = 600\n",
    "for i in range(0, n_gen):\n",
    "    ES.generation()\n",
    "    pop_list.append(ES.pop)\n",
    "    if (i+1)%k == 0: print(f\"Gen: {i+1}, Var: {ES.variance}\")\n",
    "display_evolution(pop_list, 3, 3, X_AK, Y_AK, AK)"
   ],
   "outputs": [],
   "execution_count": null
  },
  {
   "cell_type": "code",
   "metadata": {
    "colab": {
     "base_uri": "https://localhost:8080/",
     "height": 1000
    },
    "executionInfo": {
     "elapsed": 2633,
     "status": "ok",
     "timestamp": 1611053176109,
     "user": {
      "displayName": "Luca Manzoni",
      "photoUrl": "https://lh3.googleusercontent.com/a-/AOh14Ghe29ailJMHOhIfcMMV-n6KoyZgpvKhU0y8mcacAg=s64",
      "userId": "14224333895353448832"
     },
     "user_tz": -60
    },
    "id": "pgyXLUUxO3e0",
    "outputId": "38f43335-2356-407e-a277-30a80b916e41"
   },
   "source": [
    "random.seed(0)\n",
    "ES = EvolutionStrategy(4, 8, eggholder, [[-512, 512], [-512, 512]], k, c, plus=True)\n",
    "pop_list = [ES.pop]\n",
    "n_gen = 600\n",
    "for i in range(0, n_gen):\n",
    "    ES.generation()\n",
    "    pop_list.append(ES.pop)\n",
    "    if (i+1)%k == 0: print(f\"Gen: {i+1}, Var: {ES.variance}\")\n",
    "display_evolution(pop_list, 3, 3, X_EH, Y_EH, EH, opt=[512,404.2319])"
   ],
   "outputs": [],
   "execution_count": null
  }
 ],
 "metadata": {
  "colab": {
   "collapsed_sections": [],
   "name": "Lecture 1 - evolution strategies.ipynb",
   "provenance": [
    {
     "file_id": "1FvgrSA9YGMLWuUQDpAQjv3oA5Zc5REca",
     "timestamp": 1610985930111
    }
   ]
  },
  "kernelspec": {
   "display_name": "default",
   "language": "python",
   "name": "python3"
  },
  "language_info": {
   "codemirror_mode": {
    "name": "ipython",
    "version": 3
   },
   "file_extension": ".py",
   "mimetype": "text/x-python",
   "name": "python",
   "nbconvert_exporter": "python",
   "pygments_lexer": "ipython3",
   "version": "3.13.7"
  }
 },
 "nbformat": 4,
 "nbformat_minor": 4
}
